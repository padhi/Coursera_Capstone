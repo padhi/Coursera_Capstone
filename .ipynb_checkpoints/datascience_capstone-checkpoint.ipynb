{
 "cells": [
  {
   "cell_type": "markdown",
   "metadata": {},
   "source": [
    "#Applied Data science\n",
    "This notebook is for the Cousera \"Applied data science with python\" course"
   ]
  },
  {
   "cell_type": "code",
   "execution_count": null,
   "metadata": {},
   "outputs": [],
   "source": [
    "# Import the pandas library as pd.\n",
    "import pandas as pd\n",
    "# Import the Numpy library as np.\n",
    "import numpy as np\n",
    "#Print Hello Capstone Project Course!\n",
    "print \"Hello Capstone Project Course!\"\n"
   ]
  }
 ],
 "metadata": {
  "kernelspec": {
   "display_name": "Python 3",
   "language": "python",
   "name": "python3"
  },
  "language_info": {
   "codemirror_mode": {
    "name": "ipython",
    "version": 3
   },
   "file_extension": ".py",
   "mimetype": "text/x-python",
   "name": "python",
   "nbconvert_exporter": "python",
   "pygments_lexer": "ipython3",
   "version": "3.6.5"
  }
 },
 "nbformat": 4,
 "nbformat_minor": 2
}
